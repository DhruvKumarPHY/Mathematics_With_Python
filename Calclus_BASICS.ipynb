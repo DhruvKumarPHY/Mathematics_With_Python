{
 "cells": [
  {
   "cell_type": "markdown",
   "id": "79e58ecd",
   "metadata": {},
   "source": [
    "# Introduction to some of the functions in SymPy"
   ]
  },
  {
   "cell_type": "code",
   "execution_count": 1,
   "id": "c05dc9e5",
   "metadata": {},
   "outputs": [],
   "source": [
    "import sympy as smp\n",
    "from sympy import *"
   ]
  },
  {
   "cell_type": "code",
   "execution_count": 2,
   "id": "c776e5bc",
   "metadata": {},
   "outputs": [],
   "source": [
    "x = smp.symbols('x')"
   ]
  },
  {
   "cell_type": "code",
   "execution_count": 3,
   "id": "134ca345",
   "metadata": {},
   "outputs": [
    {
     "data": {
      "text/latex": [
       "$\\displaystyle x^{3}$"
      ],
      "text/plain": [
       "x**3"
      ]
     },
     "execution_count": 3,
     "metadata": {},
     "output_type": "execute_result"
    }
   ],
   "source": [
    "x**3"
   ]
  },
  {
   "cell_type": "code",
   "execution_count": 4,
   "id": "aa259c71",
   "metadata": {},
   "outputs": [],
   "source": [
    "x , y = smp.symbols('x y')"
   ]
  },
  {
   "cell_type": "code",
   "execution_count": 5,
   "id": "e991d54d",
   "metadata": {},
   "outputs": [],
   "source": [
    "f = x**2 + y **2 "
   ]
  },
  {
   "cell_type": "code",
   "execution_count": 6,
   "id": "3186a09d",
   "metadata": {},
   "outputs": [
    {
     "data": {
      "text/latex": [
       "$\\displaystyle y^{2} + 100$"
      ],
      "text/plain": [
       "y**2 + 100"
      ]
     },
     "execution_count": 6,
     "metadata": {},
     "output_type": "execute_result"
    }
   ],
   "source": [
    "f.subs(x,10) # substituting the value of x"
   ]
  },
  {
   "cell_type": "code",
   "execution_count": 7,
   "id": "b8327bda",
   "metadata": {},
   "outputs": [
    {
     "data": {
      "text/latex": [
       "$\\displaystyle x^{2} + 9$"
      ],
      "text/plain": [
       "x**2 + 9"
      ]
     },
     "execution_count": 7,
     "metadata": {},
     "output_type": "execute_result"
    }
   ],
   "source": [
    "f.subs(y,3)  # substituting the value of y"
   ]
  },
  {
   "cell_type": "code",
   "execution_count": 8,
   "id": "74135d27",
   "metadata": {},
   "outputs": [
    {
     "data": {
      "text/latex": [
       "$\\displaystyle \\sin{\\left(x \\right)}$"
      ],
      "text/plain": [
       "sin(x)"
      ]
     },
     "execution_count": 8,
     "metadata": {},
     "output_type": "execute_result"
    }
   ],
   "source": [
    "smp.sin(x)"
   ]
  },
  {
   "cell_type": "code",
   "execution_count": 9,
   "id": "8ebaa2e7",
   "metadata": {},
   "outputs": [
    {
     "data": {
      "text/latex": [
       "$\\displaystyle e^{\\frac{1}{x}}$"
      ],
      "text/plain": [
       "exp(1/x)"
      ]
     },
     "execution_count": 9,
     "metadata": {},
     "output_type": "execute_result"
    }
   ],
   "source": [
    "smp.exp(1/x) # exponent"
   ]
  },
  {
   "cell_type": "code",
   "execution_count": 10,
   "id": "7886dcfe",
   "metadata": {},
   "outputs": [
    {
     "data": {
      "text/latex": [
       "$\\displaystyle \\log{\\left(x \\right)}$"
      ],
      "text/plain": [
       "log(x)"
      ]
     },
     "execution_count": 10,
     "metadata": {},
     "output_type": "execute_result"
    }
   ],
   "source": [
    "smp.log(x) #Natural log"
   ]
  },
  {
   "cell_type": "code",
   "execution_count": 11,
   "id": "d515714e",
   "metadata": {},
   "outputs": [
    {
     "data": {
      "text/latex": [
       "$\\displaystyle \\frac{\\log{\\left(x \\right)}}{\\log{\\left(10 \\right)}}$"
      ],
      "text/plain": [
       "log(x)/log(10)"
      ]
     },
     "execution_count": 11,
     "metadata": {},
     "output_type": "execute_result"
    }
   ],
   "source": [
    "smp.log(x,10) # log with a base 10"
   ]
  },
  {
   "cell_type": "code",
   "execution_count": 12,
   "id": "4106f620",
   "metadata": {},
   "outputs": [
    {
     "data": {
      "text/latex": [
       "$\\displaystyle x^{\\frac{7}{2}}$"
      ],
      "text/plain": [
       "x**(7/2)"
      ]
     },
     "execution_count": 12,
     "metadata": {},
     "output_type": "execute_result"
    }
   ],
   "source": [
    "x**(smp.Rational(7,2)) # keeping the power odf x in fraction"
   ]
  },
  {
   "cell_type": "markdown",
   "id": "ca86bc29",
   "metadata": {},
   "source": [
    "# Lets test our Fortune with Limits."
   ]
  },
  {
   "cell_type": "code",
   "execution_count": 13,
   "id": "6faf5ff8",
   "metadata": {},
   "outputs": [
    {
     "data": {
      "text/latex": [
       "$\\displaystyle \\sin{\\left(\\frac{x}{2} + \\sin{\\left(x \\right)} \\right)}$"
      ],
      "text/plain": [
       "sin(x/2 + sin(x))"
      ]
     },
     "execution_count": 13,
     "metadata": {},
     "output_type": "execute_result"
    }
   ],
   "source": [
    "smp.sin(x/2+smp.sin(x))"
   ]
  },
  {
   "cell_type": "code",
   "execution_count": 14,
   "id": "6f8f4cdd",
   "metadata": {},
   "outputs": [
    {
     "data": {
      "text/latex": [
       "$\\displaystyle 1$"
      ],
      "text/plain": [
       "1"
      ]
     },
     "execution_count": 14,
     "metadata": {},
     "output_type": "execute_result"
    }
   ],
   "source": [
    "smp.limit(smp.sin(x/2+smp.sin(x)),x,smp.pi)"
   ]
  },
  {
   "cell_type": "code",
   "execution_count": 15,
   "id": "c5823621",
   "metadata": {},
   "outputs": [
    {
     "data": {
      "text/latex": [
       "$\\displaystyle \\frac{2 e^{\\frac{1}{x}}}{e^{\\frac{1}{x}} + 1}$"
      ],
      "text/plain": [
       "2*exp(1/x)/(exp(1/x) + 1)"
      ]
     },
     "execution_count": 15,
     "metadata": {},
     "output_type": "execute_result"
    }
   ],
   "source": [
    "2*smp.exp(1/x)/(smp.exp(1/x)+1)"
   ]
  },
  {
   "cell_type": "code",
   "execution_count": 16,
   "id": "c1840314",
   "metadata": {},
   "outputs": [
    {
     "data": {
      "text/latex": [
       "$\\displaystyle 2$"
      ],
      "text/plain": [
       "2"
      ]
     },
     "execution_count": 16,
     "metadata": {},
     "output_type": "execute_result"
    }
   ],
   "source": [
    "smp.limit(2*smp.exp(1/x)/(smp.exp(1/x)+1),x,0,dir ='+')"
   ]
  },
  {
   "cell_type": "code",
   "execution_count": 17,
   "id": "cdb7eb45",
   "metadata": {},
   "outputs": [
    {
     "data": {
      "text/latex": [
       "$\\displaystyle 0$"
      ],
      "text/plain": [
       "0"
      ]
     },
     "execution_count": 17,
     "metadata": {},
     "output_type": "execute_result"
    }
   ],
   "source": [
    "smp.limit(2*smp.exp(1/x)/(smp.exp(1/x)+1),x,0,dir ='-')"
   ]
  },
  {
   "cell_type": "code",
   "execution_count": 18,
   "id": "5fdc1f90",
   "metadata": {},
   "outputs": [
    {
     "data": {
      "text/latex": [
       "$\\displaystyle \\frac{\\cos{\\left(x \\right)} - 1}{x}$"
      ],
      "text/plain": [
       "(cos(x) - 1)/x"
      ]
     },
     "execution_count": 18,
     "metadata": {},
     "output_type": "execute_result"
    }
   ],
   "source": [
    "(smp.cos(x)-1)/x"
   ]
  },
  {
   "cell_type": "code",
   "execution_count": 19,
   "id": "ed89b2f6",
   "metadata": {},
   "outputs": [
    {
     "data": {
      "text/latex": [
       "$\\displaystyle 0$"
      ],
      "text/plain": [
       "0"
      ]
     },
     "execution_count": 19,
     "metadata": {},
     "output_type": "execute_result"
    }
   ],
   "source": [
    "smp.limit(((smp.cos(x)-1)/x),x,smp.oo)   # Here smp.oo defins a limit of x with indinity.."
   ]
  },
  {
   "cell_type": "markdown",
   "id": "4a9ea802",
   "metadata": {},
   "source": [
    "# Derivatives........."
   ]
  },
  {
   "cell_type": "code",
   "execution_count": 20,
   "id": "bd0acdc5",
   "metadata": {},
   "outputs": [
    {
     "data": {
      "text/latex": [
       "$\\displaystyle \\frac{\\left(\\sin{\\left(x \\right)} + 1\\right)^{2}}{\\left(1 - \\cos{\\left(x \\right)}\\right)^{2}}$"
      ],
      "text/plain": [
       "(sin(x) + 1)**2/(1 - cos(x))**2"
      ]
     },
     "execution_count": 20,
     "metadata": {},
     "output_type": "execute_result"
    }
   ],
   "source": [
    "((1 + smp.sin(x))/(1-smp.cos(x)))**2"
   ]
  },
  {
   "cell_type": "code",
   "execution_count": 21,
   "id": "7a5fda5a",
   "metadata": {},
   "outputs": [
    {
     "data": {
      "text/latex": [
       "$\\displaystyle \\frac{2 \\left(\\sin{\\left(x \\right)} + 1\\right) \\cos{\\left(x \\right)}}{\\left(1 - \\cos{\\left(x \\right)}\\right)^{2}} - \\frac{2 \\left(\\sin{\\left(x \\right)} + 1\\right)^{2} \\sin{\\left(x \\right)}}{\\left(1 - \\cos{\\left(x \\right)}\\right)^{3}}$"
      ],
      "text/plain": [
       "2*(sin(x) + 1)*cos(x)/(1 - cos(x))**2 - 2*(sin(x) + 1)**2*sin(x)/(1 - cos(x))**3"
      ]
     },
     "execution_count": 21,
     "metadata": {},
     "output_type": "execute_result"
    }
   ],
   "source": [
    "smp.diff(((1 + smp.sin(x))/(1-smp.cos(x)))**2,x)"
   ]
  },
  {
   "cell_type": "code",
   "execution_count": 22,
   "id": "83b657d9",
   "metadata": {},
   "outputs": [
    {
     "data": {
      "text/latex": [
       "$\\displaystyle \\left(\\frac{\\log{\\left(x \\right)}}{\\log{\\left(5 \\right)}}\\right)^{\\frac{x}{2}}$"
      ],
      "text/plain": [
       "(log(x)/log(5))**(x/2)"
      ]
     },
     "execution_count": 22,
     "metadata": {},
     "output_type": "execute_result"
    }
   ],
   "source": [
    "smp.log(x,5)**(x/2)"
   ]
  },
  {
   "cell_type": "code",
   "execution_count": 23,
   "id": "4a9c5a2a",
   "metadata": {},
   "outputs": [
    {
     "data": {
      "text/latex": [
       "$\\displaystyle \\left(\\frac{\\log{\\left(x \\right)}}{\\log{\\left(5 \\right)}}\\right)^{\\frac{x}{2}} \\left(\\frac{\\log{\\left(\\frac{\\log{\\left(x \\right)}}{\\log{\\left(5 \\right)}} \\right)}}{2} + \\frac{1}{2 \\log{\\left(x \\right)}}\\right)$"
      ],
      "text/plain": [
       "(log(x)/log(5))**(x/2)*(log(log(x)/log(5))/2 + 1/(2*log(x)))"
      ]
     },
     "execution_count": 23,
     "metadata": {},
     "output_type": "execute_result"
    }
   ],
   "source": [
    "smp.diff(smp.log(x,5)**(x/2),x)"
   ]
  },
  {
   "cell_type": "code",
   "execution_count": 24,
   "id": "e0462574",
   "metadata": {},
   "outputs": [],
   "source": [
    "# Let's Start with an abstract approach........../////\n",
    "\n",
    "f,g = smp.symbols('f g', cls = smp.Function)\n",
    "g = g(x)\n",
    "f = f(x+g)"
   ]
  },
  {
   "cell_type": "code",
   "execution_count": 25,
   "id": "122af1bb",
   "metadata": {},
   "outputs": [
    {
     "data": {
      "text/latex": [
       "$\\displaystyle f{\\left(x + g{\\left(x \\right)} \\right)}$"
      ],
      "text/plain": [
       "f(x + g(x))"
      ]
     },
     "execution_count": 25,
     "metadata": {},
     "output_type": "execute_result"
    }
   ],
   "source": [
    "f"
   ]
  },
  {
   "cell_type": "code",
   "execution_count": 26,
   "id": "589b6c68",
   "metadata": {},
   "outputs": [
    {
     "data": {
      "text/latex": [
       "$\\displaystyle \\left(\\frac{d}{d x} g{\\left(x \\right)} + 1\\right) \\left. \\frac{d}{d \\xi_{1}} f{\\left(\\xi_{1} \\right)} \\right|_{\\substack{ \\xi_{1}=x + g{\\left(x \\right)} }}$"
      ],
      "text/plain": [
       "(Derivative(g(x), x) + 1)*Subs(Derivative(f(_xi_1), _xi_1), _xi_1, x + g(x))"
      ]
     },
     "execution_count": 26,
     "metadata": {},
     "output_type": "execute_result"
    }
   ],
   "source": [
    "smp.diff(f,x) #Derivative of f with respect to x"
   ]
  },
  {
   "cell_type": "markdown",
   "id": "b4f836f4",
   "metadata": {},
   "source": [
    "# Intergration {Indefinate}"
   ]
  },
  {
   "cell_type": "code",
   "execution_count": 27,
   "id": "7a9f0187",
   "metadata": {},
   "outputs": [
    {
     "data": {
      "text/latex": [
       "$\\displaystyle \\cos{\\left(x \\right)} \\cot{\\left(x \\right)}$"
      ],
      "text/plain": [
       "cos(x)*cot(x)"
      ]
     },
     "execution_count": 27,
     "metadata": {},
     "output_type": "execute_result"
    }
   ],
   "source": [
    "smp.cos(x)*smp.cot(x)"
   ]
  },
  {
   "cell_type": "code",
   "execution_count": 28,
   "id": "9d3f1c7d",
   "metadata": {},
   "outputs": [
    {
     "data": {
      "text/latex": [
       "$\\displaystyle \\frac{\\log{\\left(\\cos{\\left(x \\right)} - 1 \\right)}}{2} - \\frac{\\log{\\left(\\cos{\\left(x \\right)} + 1 \\right)}}{2} + \\cos{\\left(x \\right)}$"
      ],
      "text/plain": [
       "log(cos(x) - 1)/2 - log(cos(x) + 1)/2 + cos(x)"
      ]
     },
     "execution_count": 28,
     "metadata": {},
     "output_type": "execute_result"
    }
   ],
   "source": [
    "smp.integrate(smp.cos(x)*smp.cot(x),x)  #By defalt SciPy do not give the conatant term. Hence, we have to keep this in mind "
   ]
  },
  {
   "cell_type": "code",
   "execution_count": 29,
   "id": "c6079418",
   "metadata": {},
   "outputs": [
    {
     "data": {
      "text/latex": [
       "$\\displaystyle \\csc{\\left(x \\right)}$"
      ],
      "text/plain": [
       "csc(x)"
      ]
     },
     "execution_count": 29,
     "metadata": {},
     "output_type": "execute_result"
    }
   ],
   "source": [
    "smp.csc(x)  #Cosec is coined as csc"
   ]
  },
  {
   "cell_type": "code",
   "execution_count": 30,
   "id": "cf42868d",
   "metadata": {},
   "outputs": [
    {
     "data": {
      "text/latex": [
       "$\\displaystyle 4 \\tan{\\left(3 x \\right)} \\sec{\\left(3 x \\right)}$"
      ],
      "text/plain": [
       "4*tan(3*x)*sec(3*x)"
      ]
     },
     "execution_count": 30,
     "metadata": {},
     "output_type": "execute_result"
    }
   ],
   "source": [
    "4*smp.sec(3*x)*smp.tan(3*x)"
   ]
  },
  {
   "cell_type": "code",
   "execution_count": 31,
   "id": "fb5975ad",
   "metadata": {},
   "outputs": [
    {
     "data": {
      "text/latex": [
       "$\\displaystyle \\frac{4}{3 \\cos{\\left(3 x \\right)}}$"
      ],
      "text/plain": [
       "4/(3*cos(3*x))"
      ]
     },
     "execution_count": 31,
     "metadata": {},
     "output_type": "execute_result"
    }
   ],
   "source": [
    "smp.integrate(4*smp.sec(3*x)*smp.tan(3*x),x)"
   ]
  },
  {
   "cell_type": "code",
   "execution_count": 32,
   "id": "1e4516cf",
   "metadata": {},
   "outputs": [
    {
     "data": {
      "text/latex": [
       "$\\displaystyle \\frac{2}{\\sqrt{1 - x^{2}}} - \\frac{1}{\\sqrt[4]{x}}$"
      ],
      "text/plain": [
       "2/sqrt(1 - x**2) - 1/x**(1/4)"
      ]
     },
     "execution_count": 32,
     "metadata": {},
     "output_type": "execute_result"
    }
   ],
   "source": [
    "2/smp.sqrt(1-x**2) - 1/(x)**(smp.Rational(1,4))"
   ]
  },
  {
   "cell_type": "code",
   "execution_count": 33,
   "id": "cba0dcf1",
   "metadata": {},
   "outputs": [
    {
     "data": {
      "text/latex": [
       "$\\displaystyle - \\frac{4 x^{\\frac{3}{4}}}{3} + 2 \\operatorname{asin}{\\left(x \\right)}$"
      ],
      "text/plain": [
       "-4*x**(3/4)/3 + 2*asin(x)"
      ]
     },
     "execution_count": 33,
     "metadata": {},
     "output_type": "execute_result"
    }
   ],
   "source": [
    "smp.integrate(2/smp.sqrt(1-x**2) - 1/(x)**(smp.Rational(1,4)),x)"
   ]
  },
  {
   "cell_type": "markdown",
   "id": "d0457a23",
   "metadata": {},
   "source": [
    "# Initial Value Function"
   ]
  },
  {
   "cell_type": "markdown",
   "id": "8d0c19b4",
   "metadata": {},
   "source": [
    "#1 Given [dy/dx = 8x+csc^2(x)] with y(pi/2)= -7 solve for y(x)"
   ]
  },
  {
   "cell_type": "code",
   "execution_count": 34,
   "id": "d9dd7411",
   "metadata": {},
   "outputs": [],
   "source": [
    "integral = 8*x + (smp.csc(x))**2  # in the give equation we Take Integral Both Sides."
   ]
  },
  {
   "cell_type": "code",
   "execution_count": 35,
   "id": "216038de",
   "metadata": {},
   "outputs": [],
   "source": [
    "integral = smp.integrate((integral),x)  # now, we will try to calculate the constat term {C}."
   ]
  },
  {
   "cell_type": "code",
   "execution_count": 36,
   "id": "6c8eeb04",
   "metadata": {},
   "outputs": [
    {
     "data": {
      "text/latex": [
       "$\\displaystyle \\pi^{2}$"
      ],
      "text/plain": [
       "pi**2"
      ]
     },
     "execution_count": 36,
     "metadata": {},
     "output_type": "execute_result"
    }
   ],
   "source": [
    "integral.subs(x,smp.pi/2)   # substuiting the value of x with pi/2 we get pi^2"
   ]
  },
  {
   "cell_type": "code",
   "execution_count": 37,
   "id": "382cc0a2",
   "metadata": {},
   "outputs": [],
   "source": [
    "C = -integral.subs(x,smp.pi/2) - 7\n",
    "y = integral + C"
   ]
  },
  {
   "cell_type": "code",
   "execution_count": 38,
   "id": "5b97ffed",
   "metadata": {},
   "outputs": [
    {
     "data": {
      "text/latex": [
       "$\\displaystyle -7$"
      ],
      "text/plain": [
       "-7"
      ]
     },
     "execution_count": 38,
     "metadata": {},
     "output_type": "execute_result"
    }
   ],
   "source": [
    "y.subs(x,smp.pi/2) # Verification"
   ]
  },
  {
   "cell_type": "code",
   "execution_count": 39,
   "id": "2fcc8ccd",
   "metadata": {},
   "outputs": [
    {
     "data": {
      "text/latex": [
       "$\\displaystyle 4 x^{2} - \\pi^{2} - 7 - \\frac{\\cos{\\left(x \\right)}}{\\sin{\\left(x \\right)}}$"
      ],
      "text/plain": [
       "4*x**2 - pi**2 - 7 - cos(x)/sin(x)"
      ]
     },
     "execution_count": 39,
     "metadata": {},
     "output_type": "execute_result"
    }
   ],
   "source": [
    "y   # as function of x"
   ]
  },
  {
   "cell_type": "markdown",
   "id": "347573e4",
   "metadata": {},
   "source": [
    "#2 let me just define it--"
   ]
  },
  {
   "cell_type": "code",
   "execution_count": 40,
   "id": "e1e9c7ad",
   "metadata": {},
   "outputs": [
    {
     "data": {
      "text/latex": [
       "$\\displaystyle \\frac{\\sqrt[3]{\\sqrt{x} + 1}}{\\sqrt{x}}$"
      ],
      "text/plain": [
       "(sqrt(x) + 1)**(1/3)/sqrt(x)"
      ]
     },
     "execution_count": 40,
     "metadata": {},
     "output_type": "execute_result"
    }
   ],
   "source": [
    "(1+smp.sqrt(x))**(smp.Rational(1,3))  / x**(smp.Rational(1,2))"
   ]
  },
  {
   "cell_type": "code",
   "execution_count": 41,
   "id": "1b00bed7",
   "metadata": {},
   "outputs": [
    {
     "data": {
      "text/latex": [
       "$\\displaystyle \\frac{3 \\sqrt{x} \\sqrt[3]{\\sqrt{x} + 1}}{2} + \\frac{3 \\sqrt[3]{\\sqrt{x} + 1}}{2}$"
      ],
      "text/plain": [
       "3*sqrt(x)*(sqrt(x) + 1)**(1/3)/2 + 3*(sqrt(x) + 1)**(1/3)/2"
      ]
     },
     "execution_count": 41,
     "metadata": {},
     "output_type": "execute_result"
    }
   ],
   "source": [
    "smp.integrate((1+smp.sqrt(x))**(smp.Rational(1,3))  / x**(smp.Rational(1,2)),x)"
   ]
  },
  {
   "cell_type": "markdown",
   "id": "c38c2eca",
   "metadata": {},
   "source": [
    "#3"
   ]
  },
  {
   "cell_type": "code",
   "execution_count": 42,
   "id": "48d35a20",
   "metadata": {},
   "outputs": [
    {
     "data": {
      "text/latex": [
       "$\\displaystyle x \\sqrt[4]{1 - x^{2}}$"
      ],
      "text/plain": [
       "x*(1 - x**2)**(1/4)"
      ]
     },
     "execution_count": 42,
     "metadata": {},
     "output_type": "execute_result"
    }
   ],
   "source": [
    "x*(1-x**2)**smp.Rational(1/4)"
   ]
  },
  {
   "cell_type": "code",
   "execution_count": 43,
   "id": "10ab43ee",
   "metadata": {},
   "outputs": [
    {
     "data": {
      "text/latex": [
       "$\\displaystyle \\frac{2 x^{2} \\sqrt[4]{1 - x^{2}}}{5} - \\frac{2 \\sqrt[4]{1 - x^{2}}}{5}$"
      ],
      "text/plain": [
       "2*x**2*(1 - x**2)**(1/4)/5 - 2*(1 - x**2)**(1/4)/5"
      ]
     },
     "execution_count": 43,
     "metadata": {},
     "output_type": "execute_result"
    }
   ],
   "source": [
    "smp.integrate(x*(1-x**2)**smp.Rational(1/4),x)"
   ]
  },
  {
   "cell_type": "code",
   "execution_count": 44,
   "id": "a4603d88",
   "metadata": {},
   "outputs": [
    {
     "data": {
      "text/latex": [
       "$\\displaystyle \\frac{\\left(2 x - 1\\right) \\cos{\\left(\\sqrt{3 \\left(2 x - 1\\right)^{2} + 6} \\right)}}{\\sqrt{3 \\left(2 x - 1\\right)^{2} + 6}}$"
      ],
      "text/plain": [
       "(2*x - 1)*cos(sqrt(3*(2*x - 1)**2 + 6))/sqrt(3*(2*x - 1)**2 + 6)"
      ]
     },
     "execution_count": 44,
     "metadata": {},
     "output_type": "execute_result"
    }
   ],
   "source": [
    "(2*x-1)*smp.cos((3*(2*x-1)**2+6)**smp.Rational(1/2)) /(3*(2*x-1)**2+6)**smp.Rational(1/2)\n"
   ]
  },
  {
   "cell_type": "code",
   "execution_count": 45,
   "id": "bd80df89",
   "metadata": {},
   "outputs": [
    {
     "data": {
      "text/latex": [
       "$\\displaystyle \\frac{\\sin{\\left(\\sqrt{3 \\left(2 x - 1\\right)^{2} + 6} \\right)}}{6}$"
      ],
      "text/plain": [
       "sin(sqrt(3*(2*x - 1)**2 + 6))/6"
      ]
     },
     "execution_count": 45,
     "metadata": {},
     "output_type": "execute_result"
    }
   ],
   "source": [
    "smp.integrate((2*x-1)*smp.cos((3*(2*x-1)**2+6)**smp.Rational(1/2)) /(3*(2*x-1)**2+6)**smp.Rational(1/2),x)"
   ]
  },
  {
   "cell_type": "markdown",
   "id": "c0661127",
   "metadata": {},
   "source": [
    "# Integration{Definate}"
   ]
  },
  {
   "cell_type": "code",
   "execution_count": 46,
   "id": "955a3a5e",
   "metadata": {},
   "outputs": [
    {
     "data": {
      "text/latex": [
       "$\\displaystyle \\frac{e^{x}}{\\sqrt{e^{2 x} + 9}}$"
      ],
      "text/plain": [
       "exp(x)/sqrt(exp(2*x) + 9)"
      ]
     },
     "execution_count": 46,
     "metadata": {},
     "output_type": "execute_result"
    }
   ],
   "source": [
    "smp.exp(x)/(smp.exp(2*x)+9)**smp.Rational(1,2)"
   ]
  },
  {
   "cell_type": "code",
   "execution_count": 47,
   "id": "b5544044",
   "metadata": {},
   "outputs": [
    {
     "data": {
      "text/latex": [
       "$\\displaystyle - \\operatorname{asinh}{\\left(\\frac{1}{3} \\right)} + \\operatorname{asinh}{\\left(\\frac{4}{3} \\right)}$"
      ],
      "text/plain": [
       "-asinh(1/3) + asinh(4/3)"
      ]
     },
     "execution_count": 47,
     "metadata": {},
     "output_type": "execute_result"
    }
   ],
   "source": [
    "smp.integrate(smp.exp(x)/(smp.exp(2*x)+9)**(smp.Rational(1,2)),(x,0,smp.log(4)))  #asin(x) is inverse of sin(x)"
   ]
  },
  {
   "cell_type": "code",
   "execution_count": 48,
   "id": "56c2de2a",
   "metadata": {},
   "outputs": [
    {
     "data": {
      "text/latex": [
       "$\\displaystyle x^{10} e^{x}$"
      ],
      "text/plain": [
       "x**10*exp(x)"
      ]
     },
     "execution_count": 48,
     "metadata": {},
     "output_type": "execute_result"
    }
   ],
   "source": [
    "x**10 * smp.exp(x)"
   ]
  },
  {
   "cell_type": "code",
   "execution_count": 49,
   "id": "b2869052",
   "metadata": {},
   "outputs": [],
   "source": [
    "t = smp.symbols('t')"
   ]
  },
  {
   "cell_type": "code",
   "execution_count": 50,
   "id": "39cc7129",
   "metadata": {},
   "outputs": [
    {
     "data": {
      "text/latex": [
       "$\\displaystyle \\left(t^{10} - 10 t^{9} + 90 t^{8} - 720 t^{7} + 5040 t^{6} - 30240 t^{5} + 151200 t^{4} - 604800 t^{3} + 1814400 t^{2} - 3628800 t + 3628800\\right) e^{t} - 1334961 e$"
      ],
      "text/plain": [
       "(t**10 - 10*t**9 + 90*t**8 - 720*t**7 + 5040*t**6 - 30240*t**5 + 151200*t**4 - 604800*t**3 + 1814400*t**2 - 3628800*t + 3628800)*exp(t) - 1334961*E"
      ]
     },
     "execution_count": 50,
     "metadata": {},
     "output_type": "execute_result"
    }
   ],
   "source": [
    "smp.integrate(x**10 * smp.exp(x),(x,1,t))"
   ]
  },
  {
   "cell_type": "markdown",
   "id": "d3d47904",
   "metadata": {},
   "source": [
    "# Improper Integrals"
   ]
  },
  {
   "cell_type": "code",
   "execution_count": 51,
   "id": "8b5e39a8",
   "metadata": {},
   "outputs": [
    {
     "data": {
      "text/latex": [
       "$\\displaystyle \\frac{16 \\operatorname{atan}{\\left(x \\right)}}{x^{2} + 1}$"
      ],
      "text/plain": [
       "16*atan(x)/(x**2 + 1)"
      ]
     },
     "execution_count": 51,
     "metadata": {},
     "output_type": "execute_result"
    }
   ],
   "source": [
    "(16*smp.atan(x))/ (1+x**2)"
   ]
  },
  {
   "cell_type": "code",
   "execution_count": 52,
   "id": "1d075dc2",
   "metadata": {},
   "outputs": [
    {
     "data": {
      "text/latex": [
       "$\\displaystyle 2 \\pi^{2}$"
      ],
      "text/plain": [
       "2*pi**2"
      ]
     },
     "execution_count": 52,
     "metadata": {},
     "output_type": "execute_result"
    }
   ],
   "source": [
    "smp.integrate((16*smp.atan(x))/ (1+x**2),(x,0,smp.oo))   #Very Cool"
   ]
  },
  {
   "cell_type": "markdown",
   "id": "22b69dfd",
   "metadata": {},
   "source": [
    "# Summation Functions"
   ]
  },
  {
   "cell_type": "code",
   "execution_count": 53,
   "id": "de792c34",
   "metadata": {},
   "outputs": [],
   "source": [
    "n = smp.symbols('n')"
   ]
  },
  {
   "cell_type": "code",
   "execution_count": 54,
   "id": "ad123ea1",
   "metadata": {},
   "outputs": [
    {
     "data": {
      "text/latex": [
       "$\\displaystyle 6 \\cdot 4^{- n}$"
      ],
      "text/plain": [
       "6*4**(-n)"
      ]
     },
     "execution_count": 54,
     "metadata": {},
     "output_type": "execute_result"
    }
   ],
   "source": [
    "6/4**n"
   ]
  },
  {
   "cell_type": "code",
   "execution_count": 55,
   "id": "2165e473",
   "metadata": {},
   "outputs": [
    {
     "data": {
      "text/latex": [
       "$\\displaystyle \\sum_{n=0}^{\\infty} 6 \\cdot 4^{- n}$"
      ],
      "text/plain": [
       "Sum(6*4**(-n), (n, 0, oo))"
      ]
     },
     "execution_count": 55,
     "metadata": {},
     "output_type": "execute_result"
    }
   ],
   "source": [
    "smp.Sum(6/4**n, (n,0,smp.oo))"
   ]
  },
  {
   "cell_type": "code",
   "execution_count": 56,
   "id": "f1529742",
   "metadata": {},
   "outputs": [
    {
     "data": {
      "text/latex": [
       "$\\displaystyle 8$"
      ],
      "text/plain": [
       "8"
      ]
     },
     "execution_count": 56,
     "metadata": {},
     "output_type": "execute_result"
    }
   ],
   "source": [
    "#Bro Solve it ///////\n",
    "\n",
    "smp.Sum(6/4**n, (n,0,smp.oo)).doit()\n",
    "\n",
    "#///// WE have TO TELL SCIPY TO doit()"
   ]
  },
  {
   "cell_type": "code",
   "execution_count": 57,
   "id": "ac77c14b",
   "metadata": {},
   "outputs": [
    {
     "data": {
      "text/latex": [
       "$\\displaystyle \\sum_{n=0}^{\\infty} 2^{n + 1} \\cdot 5^{- n}$"
      ],
      "text/plain": [
       "Sum(2**(n + 1)*5**(-n), (n, 0, oo))"
      ]
     },
     "execution_count": 57,
     "metadata": {},
     "output_type": "execute_result"
    }
   ],
   "source": [
    "smp.Sum(2**(n+1)/5**n, (n,0,smp.oo))"
   ]
  },
  {
   "cell_type": "code",
   "execution_count": 58,
   "id": "b02a63b3",
   "metadata": {},
   "outputs": [
    {
     "data": {
      "text/latex": [
       "$\\displaystyle \\frac{10}{3}$"
      ],
      "text/plain": [
       "10/3"
      ]
     },
     "execution_count": 58,
     "metadata": {},
     "output_type": "execute_result"
    }
   ],
   "source": [
    "smp.Sum(2**(n+1)/5**n, (n,0,smp.oo)).doit()"
   ]
  },
  {
   "cell_type": "code",
   "execution_count": 59,
   "id": "ef638fca",
   "metadata": {},
   "outputs": [
    {
     "data": {
      "text/latex": [
       "$\\displaystyle \\sum_{n=1}^{\\infty} \\frac{\\operatorname{atan}{\\left(n \\right)}}{n^{\\frac{11}{10}}}$"
      ],
      "text/plain": [
       "Sum(atan(n)/n**(11/10), (n, 1, oo))"
      ]
     },
     "execution_count": 59,
     "metadata": {},
     "output_type": "execute_result"
    }
   ],
   "source": [
    "smp.Sum(smp.atan(n)/n**smp.Rational(11,10), (n,1,smp.oo))"
   ]
  },
  {
   "cell_type": "code",
   "execution_count": 60,
   "id": "adc5e6e2",
   "metadata": {},
   "outputs": [
    {
     "data": {
      "text/latex": [
       "$\\displaystyle \\sum_{n=1}^{\\infty} \\frac{\\operatorname{atan}{\\left(n \\right)}}{n^{\\frac{11}{10}}}$"
      ],
      "text/plain": [
       "Sum(atan(n)/n**(11/10), (n, 1, oo))"
      ]
     },
     "execution_count": 60,
     "metadata": {},
     "output_type": "execute_result"
    }
   ],
   "source": [
    "smp.Sum(smp.atan(n)/n**smp.Rational(11,10), (n,1,smp.oo)).doit()  # Some time it does not work.."
   ]
  },
  {
   "cell_type": "code",
   "execution_count": 61,
   "id": "53e0d398",
   "metadata": {},
   "outputs": [
    {
     "data": {
      "text/latex": [
       "$\\displaystyle 15.3028821020457$"
      ],
      "text/plain": [
       "15.3028821020457"
      ]
     },
     "execution_count": 61,
     "metadata": {},
     "output_type": "execute_result"
    }
   ],
   "source": [
    "#Lets try this!! {.n()}\n",
    "smp.Sum(smp.atan(n)/n**(smp.Rational(11,10)), (n,1,smp.oo)).n()\n",
    "#////////Here, we are actually dealing with approximations./////////////////\\\\\\\\\\\\\\\\\\\\\\\\\\\\\\\\\\\\\\\\\\\\\\\\\\"
   ]
  },
  {
   "cell_type": "code",
   "execution_count": 69,
   "id": "cee6b3bf",
   "metadata": {},
   "outputs": [
    {
     "data": {
      "text/latex": [
       "$\\displaystyle 1.969$"
      ],
      "text/plain": [
       "1.969"
      ]
     },
     "execution_count": 69,
     "metadata": {},
     "output_type": "execute_result"
    }
   ],
   "source": [
    "smp.Sum((1+smp.cos(n))/n**2, (n,1,smp.oo)).n()"
   ]
  },
  {
   "cell_type": "code",
   "execution_count": null,
   "id": "5d9df6ce",
   "metadata": {},
   "outputs": [],
   "source": [
    "# Happy Learning"
   ]
  }
 ],
 "metadata": {
  "kernelspec": {
   "display_name": "Python 3",
   "language": "python",
   "name": "python3"
  },
  "language_info": {
   "codemirror_mode": {
    "name": "ipython",
    "version": 3
   },
   "file_extension": ".py",
   "mimetype": "text/x-python",
   "name": "python",
   "nbconvert_exporter": "python",
   "pygments_lexer": "ipython3",
   "version": "3.8.8"
  }
 },
 "nbformat": 4,
 "nbformat_minor": 5
}
